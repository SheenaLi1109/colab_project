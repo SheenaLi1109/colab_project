{
  "nbformat": 4,
  "nbformat_minor": 0,
  "metadata": {
    "colab": {
      "provenance": [],
      "authorship_tag": "ABX9TyNDnHWrTL4A6DnVgHtUyDYs",
      "include_colab_link": true
    },
    "kernelspec": {
      "name": "python3",
      "display_name": "Python 3"
    },
    "language_info": {
      "name": "python"
    }
  },
  "cells": [
    {
      "cell_type": "markdown",
      "metadata": {
        "id": "view-in-github",
        "colab_type": "text"
      },
      "source": [
        "<a href=\"https://colab.research.google.com/github/SheenaLi1109/colab_project/blob/main/20240502.ipynb\" target=\"_parent\"><img src=\"https://colab.research.google.com/assets/colab-badge.svg\" alt=\"Open In Colab\"/></a>"
      ]
    },
    {
      "cell_type": "code",
      "execution_count": null,
      "metadata": {
        "colab": {
          "base_uri": "https://localhost:8080/"
        },
        "id": "vhBBdwQrBb_Z",
        "outputId": "78bf4284-1ac9-4396-fe4d-48635667560f"
      },
      "outputs": [
        {
          "output_type": "stream",
          "name": "stdout",
          "text": [
            "20\n",
            "TODAY IS A GOOD DAY!\n",
            "today is a good day!\n",
            "20\n",
            "TODAY IS A GOOD DAY!\n",
            "today is a good day!\n"
          ]
        }
      ],
      "source": [
        "# 課堂練習1\n",
        "sent = (\"Today is a good day!\")\n",
        "sent_len = len(sent)\n",
        "print(sent_len)\n",
        "sent_upper = sent.upper()\n",
        "print(sent_upper)\n",
        "sent_lower = sent.lower()\n",
        "print(sent_lower)"
      ]
    },
    {
      "cell_type": "code",
      "source": [
        "# 課堂練習2\n",
        "string_1 = \"Taipei 101\"\n",
        "string_2 = \"Love River\"\n",
        "print(f\"Let's go to {string_1}, it's an amazing building. \")\n",
        "print(f\"Let's go to {string_2}, it's a beautiful place. \")\n",
        "\n",
        "a = \"Test\"\n",
        "b = 'English'\n",
        "print(f\"The subject of {a} is {b}. \")"
      ],
      "metadata": {
        "colab": {
          "base_uri": "https://localhost:8080/"
        },
        "id": "Ac1FpRbIEjGx",
        "outputId": "44bd4b72-b94a-48cf-86bf-ac4f725a4339"
      },
      "execution_count": null,
      "outputs": [
        {
          "output_type": "stream",
          "name": "stdout",
          "text": [
            "Let's go to Taipei 101, it's an amazing building. \n",
            "Let's go to Love River, it's a beautiful place. \n",
            "The subject of Test is English. \n"
          ]
        }
      ]
    },
    {
      "cell_type": "code",
      "source": [
        "# 課堂練習3\n",
        "def wordDetect(s):\n",
        "  if len(s) > 10:\n",
        "    print(\"too long\")\n",
        "  if len(s) < 10:\n",
        "    print(\"too short\")\n",
        "  elif s == s.lower():\n",
        "    print(\"lower\")\n",
        "  elif s == s.upper():\n",
        "    print(\"upper\")\n",
        "  else:\n",
        "    print(\"mixed\")\n",
        "\n",
        "sent = \"Today is a Good Day.\"\n",
        "wordDetect(sent)"
      ],
      "metadata": {
        "colab": {
          "base_uri": "https://localhost:8080/"
        },
        "id": "HMLrTU4vOz9P",
        "outputId": "c27d63d4-162b-48c8-c0b4-b10bda401ac2"
      },
      "execution_count": null,
      "outputs": [
        {
          "output_type": "stream",
          "name": "stdout",
          "text": [
            "too long\n",
            "mixed\n"
          ]
        }
      ]
    }
  ]
}