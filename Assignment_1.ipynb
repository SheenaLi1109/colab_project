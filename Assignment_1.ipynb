{
  "nbformat": 4,
  "nbformat_minor": 0,
  "metadata": {
    "colab": {
      "provenance": [],
      "authorship_tag": "ABX9TyNfxPPVc4Fkn5Az6DnNqo5h",
      "include_colab_link": true
    },
    "kernelspec": {
      "name": "python3",
      "display_name": "Python 3"
    },
    "language_info": {
      "name": "python"
    }
  },
  "cells": [
    {
      "cell_type": "markdown",
      "metadata": {
        "id": "view-in-github",
        "colab_type": "text"
      },
      "source": [
        "<a href=\"https://colab.research.google.com/github/SheenaLi1109/colab_project/blob/main/Assignment_1.ipynb\" target=\"_parent\"><img src=\"https://colab.research.google.com/assets/colab-badge.svg\" alt=\"Open In Colab\"/></a>"
      ]
    },
    {
      "cell_type": "code",
      "execution_count": null,
      "metadata": {
        "colab": {
          "base_uri": "https://localhost:8080/"
        },
        "id": "FnmeBVBX1vnv",
        "outputId": "9fcaa1ab-8c0c-41c8-9adb-645f3bc2235b"
      },
      "outputs": [
        {
          "output_type": "stream",
          "name": "stdout",
          "text": [
            "Hello, Linguistics\n"
          ]
        }
      ],
      "source": [
        "s = \"Hello, Linguistics\"\n",
        "print(s)"
      ]
    },
    {
      "cell_type": "code",
      "source": [
        "s = \"Hello, Linguistics\"\n",
        "lower = s.lower()\n",
        "print(lower)"
      ],
      "metadata": {
        "colab": {
          "base_uri": "https://localhost:8080/"
        },
        "id": "gOb8-yeH3YjS",
        "outputId": "57589c1d-da28-4ded-846d-c165eb3fb3a4"
      },
      "execution_count": null,
      "outputs": [
        {
          "output_type": "stream",
          "name": "stdout",
          "text": [
            "hello, linguistics\n"
          ]
        }
      ]
    },
    {
      "cell_type": "code",
      "source": [
        "num = [3,5,1,4,2]\n",
        "print(\"第一個元素的值：\", num[0])\n",
        "print(\"最後一個元素的值：\", num[-1])"
      ],
      "metadata": {
        "colab": {
          "base_uri": "https://localhost:8080/"
        },
        "id": "waTtQK2V3d9A",
        "outputId": "82329290-6159-41db-a7b2-8150477bb45a"
      },
      "execution_count": null,
      "outputs": [
        {
          "output_type": "stream",
          "name": "stdout",
          "text": [
            "第一個元素的值： 3\n",
            "最後一個元素的值： 2\n"
          ]
        }
      ]
    },
    {
      "cell_type": "code",
      "source": [
        "animals_1 = [\"Dog\",\"Cat\",\"Bird\",\"Tiger\",\"Elephant\"]\n",
        "animals_2 = [\"Dog\"]\n",
        "if len(animals_1) > 2:\n",
        "    print(\"yes\")\n",
        "else:\n",
        "    print(\"no\")\n",
        "if len(animals_2) > 2:\n",
        "  print(\"yes\")\n",
        "else:\n",
        "  print(\"no\")"
      ],
      "metadata": {
        "colab": {
          "base_uri": "https://localhost:8080/"
        },
        "id": "CdFkdj3k3m45",
        "outputId": "3cf45c86-78a0-41fb-8124-4239420ec9a2"
      },
      "execution_count": null,
      "outputs": [
        {
          "output_type": "stream",
          "name": "stdout",
          "text": [
            "yes\n",
            "no\n"
          ]
        }
      ]
    },
    {
      "cell_type": "code",
      "source": [],
      "metadata": {
        "id": "vNfrflUQrbOj"
      },
      "execution_count": null,
      "outputs": []
    }
  ]
}